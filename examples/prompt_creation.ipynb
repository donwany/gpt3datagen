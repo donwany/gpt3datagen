{
 "cells": [
  {
   "cell_type": "code",
   "execution_count": 1,
   "id": "3aa62199-03c6-448b-9c65-e3d49244aef6",
   "metadata": {
    "tags": []
   },
   "outputs": [],
   "source": [
    "import csv\n",
    "import json"
   ]
  },
  {
   "cell_type": "code",
   "execution_count": null,
   "id": "1a482fe8-8113-4e14-9367-fe99c75a4b29",
   "metadata": {
    "tags": []
   },
   "outputs": [],
   "source": [
    "# Read CSV file\n",
    "with open('basketball_data.csv', 'r') as f:\n",
    "    data = list(csv.reader(f))\n",
    "    headers = data[0]\n",
    "    data = data[1:]"
   ]
  },
  {
   "cell_type": "code",
   "execution_count": null,
   "id": "5728d981-6827-48ab-b34a-d568c9c2a230",
   "metadata": {},
   "outputs": [],
   "source": [
    "# Create prompt and completion pairs\n",
    "pairs = []\n",
    "for player in data:\n",
    "    prompt = f\"Write a summary of {player[headers.index('Player')]}'s statistics:\"\n",
    "    completion = f\"{player[headers.index('Player')]} played {player[headers.index('GP  Games played')]} games, \" \\\n",
    "                 f\"starting {player[headers.index('GS  Games started')]} of them. \" \\\n",
    "                 f\"He had an average of {player[headers.index('MPG  Minutes Per Game')]} minutes per game, \" \\\n",
    "                 f\"scoring {player[headers.index('PPG  Points Per Game')]} points per game. \" \\\n",
    "                 f\"He made {player[headers.index('FGM  Field Goals Made')]} out of {player[headers.index('FGA  Field Goals Attempted')]} field goals, \" \\\n",
    "                 f\"for a field goal percentage of {player[headers.index('FG%  Field Goal Percentage')]}. \" \\\n",
    "                 f\"He made {player[headers.index('3FGM  Three-Point Field Goals Made')]} out of {player[headers.index('3FGA  Three-Point Field Goals Attempted')]} three-point field goals, \" \\\n",
    "                 f\"for a three-point field goal percentage of {player[headers.index('3FG%  Three-Point Field Goal Percentage')]}. \" \\\n",
    "                 f\"He made {player[headers.index('FTM  Free Throws Made')]} out of {player[headers.index('FTA  Free Throws Attempted')]} free throws, \" \\\n",
    "                 f\"for a free throw percentage of {player[headers.index('FT%  Free Throw Percentage')]}. \" \\\n",
    "                 f\"He plays as {player[headers.index('Position')]} for the {player[headers.index('Team')]}.\"\n",
    "    pairs.append({\"prompt\": prompt, \"completion\": completion})\n",
    "\n",
    "\n",
    "    \n",
    "# Export to JSON file\n",
    "with open('prompt_completion_pairs.json', 'w') as f:\n",
    "    json.dump(pairs, f)\n"
   ]
  },
  {
   "cell_type": "code",
   "execution_count": null,
   "id": "21bc97ee-e84c-498a-84b4-ce0bccd6604c",
   "metadata": {},
   "outputs": [],
   "source": []
  }
 ],
 "metadata": {
  "kernelspec": {
   "display_name": "Python 3 (ipykernel)",
   "language": "python",
   "name": "python3"
  },
  "language_info": {
   "codemirror_mode": {
    "name": "ipython",
    "version": 3
   },
   "file_extension": ".py",
   "mimetype": "text/x-python",
   "name": "python",
   "nbconvert_exporter": "python",
   "pygments_lexer": "ipython3",
   "version": "3.8.16"
  }
 },
 "nbformat": 4,
 "nbformat_minor": 5
}
